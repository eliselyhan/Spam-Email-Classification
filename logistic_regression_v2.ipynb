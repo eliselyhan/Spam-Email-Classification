{
 "cells": [
  {
   "cell_type": "code",
   "execution_count": 4,
   "metadata": {},
   "outputs": [],
   "source": [
    "import numpy as np\n",
    "import pandas as pd\n",
    "import matplotlib.pyplot as plt\n",
    "from sklearn.model_selection import train_test_split"
   ]
  },
  {
   "cell_type": "code",
   "execution_count": 184,
   "metadata": {},
   "outputs": [],
   "source": [
    "#data preprocessing\n",
    "all_data = np.loadtxt('spambase.data', delimiter=',')\n",
    "X_all = all_data[:, :-1]\n",
    "y_all = all_data[:, -1]\n",
    "\n",
    "#dimension of input\n",
    "X_dim = X_all.shape[1]"
   ]
  },
  {
   "cell_type": "markdown",
   "metadata": {},
   "source": [
    "Log Loss function evaluated at each datapoint:\n",
    "\n",
    "$L_i = -y_i\\ log(\\sigma(\\beta \\cdot x_i)) - (1-y_i)\\ log (1 - \\sigma(\\beta \\cdot x_i))$\n",
    "\n",
    "$\\frac{\\partial L_i}{\\partial \\beta} = (\\sigma(\\beta \\cdot x_i) - y_i )\\ x_i $"
   ]
  },
  {
   "cell_type": "code",
   "execution_count": 5,
   "metadata": {},
   "outputs": [],
   "source": [
    "#logistic loss and its gradient, evaluated at each datapoint\n",
    "def sigmoid(beta, x_i):\n",
    "    #addressing log(0) error\n",
    "    if 1/(1+ np.exp(-1*np.dot(beta, x_i))) < 1e-12:\n",
    "        return 1e-12\n",
    "    \n",
    "    if 1/(1+ np.exp(-1*np.dot(beta, x_i))) > 1 - 1e-12:\n",
    "        return 1 - (1e-12)\n",
    "    \n",
    "    return 1/(1+ np.exp(-1*np.dot(beta, x_i)))\n",
    "\n",
    "def logistic_loss(x_i, y_i, beta):\n",
    "    return (-1)* y_i * np.log(sigmoid(beta, x_i)) - (1 - y_i)*np.log(1 - sigmoid(beta,x_i))\n",
    "    \n",
    "def total_loss(X, y, beta):\n",
    "    loss = 0\n",
    "    for i in range(len(y)):\n",
    "        loss += logistic_loss(X[i, :], y[i], beta)\n",
    "    return loss/(len(y))\n",
    "        \n",
    "def logistic_gradient(x_i, y_i, beta):\n",
    "    return (sigmoid(beta, x_i) - y_i )*x_i.T"
   ]
  },
  {
   "cell_type": "markdown",
   "metadata": {},
   "source": [
    "$\\hat y = sgn (\\hat{\\beta_0} +  \\frac{X - \\bar X}{s} \\hat {\\beta_{-0}}) \\newline\n",
    "= sgn ((\\hat \\beta_0 - \\frac{\\bar X}{s} \\hat {\\beta_{-0}}) + X \\frac{\\hat{\\beta_{-0}}}{s}) \\newline\n",
    "= sgn ( \\tilde {\\beta_0} + X \\tilde {\\beta_{-0}}) \n",
    "$, where $\\tilde {\\beta_0}= \\hat \\beta_0 - \\frac{\\bar X}{s} \\hat{\\beta_{-0}}$ and $\\tilde {\\beta_{-0}} = \\frac{\\hat{\\beta_{-0}}}{s} $"
   ]
  },
  {
   "cell_type": "code",
   "execution_count": 155,
   "metadata": {},
   "outputs": [],
   "source": [
    "#gradient descent\n",
    "def gradient_descent(X, y, alpha, beta, epochs, normalization):\n",
    "    \n",
    "    #centering and standardizing  \n",
    "\n",
    "    if normalization == 1: \n",
    "        mean = np.mean(X, axis=0)\n",
    "        std = np.std(X, axis = 0)\n",
    "        X = X - mean * np.ones_like(X)\n",
    "        X = X/std\n",
    "    else: \n",
    "        mean = np.zeros(X.shape[1])\n",
    "        std = np.ones(X.shape[1])\n",
    "        \n",
    "    #add column of intercepts\n",
    "    X = np.column_stack((np.ones(len(X)), X))\n",
    "\n",
    "    grad_vec = np.zeros(X.shape[1])\n",
    "    losses = []\n",
    "    \n",
    "    for t in range(epochs):\n",
    "        \n",
    "        #summing the gradients evaluated at each datapoint\n",
    "        for i in range(len(y)):\n",
    "            grad_vec = grad_vec + logistic_gradient(X[i, :], y[i], beta)\n",
    "        \n",
    "        #divide by #datapoints\n",
    "        grad_vec = grad_vec / len(y)\n",
    "        \n",
    "        #updating by gradient descent\n",
    "        beta = beta - alpha * grad_vec\n",
    "        \n",
    "        #plot losses after each iteration\n",
    "        loss = total_loss(X,y,beta)\n",
    "        losses.append(loss)\n",
    "        \n",
    "        if t > 1:\n",
    "            if np.abs(loss - losses[t-1]) < 1e-10:\n",
    "                print('stopping criteria met')\n",
    "                break\n",
    "        \n",
    "    losses = np.asarray(losses)\n",
    "    plt.plot(losses)\n",
    "    plt.show()\n",
    "    print(losses[-1])\n",
    "\n",
    "    #transform weight vectors \n",
    "    beta_t = np.zeros(X.shape[1])\n",
    "    beta_t[0] =  beta[0] - np.dot(mean/std, beta[1:])\n",
    "    beta_t[1:] = (1/std)*beta[1:]\n",
    "    return beta_t"
   ]
  },
  {
   "cell_type": "code",
   "execution_count": 154,
   "metadata": {},
   "outputs": [],
   "source": [
    "#stochastic gradient descent\n",
    "\n",
    "def stochastic_gradient_descent(X, y, alpha, beta, batch_size, epochs):\n",
    "    \n",
    "    #normalization of input\n",
    "    mean = np.mean(X, axis=0)\n",
    "    std = np.std(X, axis=0)\n",
    "    X = X - mean * np.ones_like(X)\n",
    "    X = X/std\n",
    "\n",
    "    #add column of intercepts\n",
    "    X = np.column_stack((np.ones(len(X)), X))\n",
    "    \n",
    "    grad_vec = np.ones(X.shape[1])\n",
    "    \n",
    "    losses = []\n",
    "    index_list = np.arange(len(y))\n",
    "        \n",
    "    #randomly choose datapoints \n",
    "    batch = np.random.choice(index_list, batch_size)\n",
    "    \n",
    "    for t in range(epochs):\n",
    "        for i in batch:\n",
    "            idx = index_list[i]\n",
    "            grad_vec += logistic_gradient(X[idx, :], y[idx], beta)\n",
    "            \n",
    "        grad_vec = grad_vec / batch_size\n",
    "            \n",
    "        beta = beta - alpha * grad_vec\n",
    "        \n",
    "        loss = total_loss(X,y,beta)\n",
    "        losses.append(loss)\n",
    "        \n",
    "        if t > 1:\n",
    "            if np.abs(loss - losses[t-1]) < 1e-9:\n",
    "                print('stopping criteria met')\n",
    "                break\n",
    "        \n",
    "    losses = np.asarray(losses)\n",
    "    plt.plot(losses)\n",
    "    plt.show()\n",
    "    print(losses[-1])\n",
    "\n",
    "    \n",
    "    #transform weight vectors \n",
    "    beta_t = np.zeros(X.shape[1])\n",
    "    beta_t[0] =  beta[0] - np.dot(mean/std, beta[1:])\n",
    "    beta_t[1:] = (1/std)*beta[1:]\n",
    "    \n",
    "    return beta_t\n",
    "    "
   ]
  },
  {
   "cell_type": "code",
   "execution_count": 226,
   "metadata": {},
   "outputs": [
    {
     "data": {
      "image/png": "[encoded data removed]",
      "text/plain": [
       "<Figure size 640x480 with 1 Axes>"
      ]
     },
     "metadata": {},
     "output_type": "display_data"
    },
    {
     "name": "stdout",
     "output_type": "stream",
     "text": [
      "1.5524461224125996\n",
      "0.1791530944625407\n"
     ]
    }
   ],
   "source": [
    "#cross-validation\n",
    "\n",
    "#initialize the weight vector\n",
    "beta_0 = 0.2*np.ones(X_dim+1)\n",
    "\n",
    "#train-test split        \n",
    "X_train, X_test, y_train, y_test = train_test_split(X_all, y_all, test_size=0.2, random_state=42)\n",
    "\n",
    "#0.105; beta_gd = gradient_descent(X_train, y_train, 0.02, beta_0, 1000)\n",
    "#0.105; beta_gd = gradient_descent(X_train, y_train, 0.04, beta_0, 500)\n",
    "#0.088: beta_gd = gradient_descent(X_train, y_train, 0.08, beta_0, 600)\n",
    "#0.088: beta_gd = gradient_descent(X_train, y_train, 0.16, beta_0, 300)\n",
    "#0.087: beta_gd = gradient_descent(X_train, y_train, 0.32, beta_0, 200)\n",
    "#0.088: beta_gd = gradient_descent(X_train, y_train, 0.32, beta_0, 150)\n",
    "#0.087: beta_gd = gradient_descent(X_train, y_train, 0.64, beta_0, 100) #optimal so far.\n",
    "\n",
    "#0.35: beta_sgd_1 = stochastic_gradient_descent(X_train, y_train, 0.00015, beta_0, 1, 2000)\n",
    "#0.22: beta_sgd_1 = stochastic_gradient_descent(X_train, y_train, 0.000005, beta_0, 1, 10000)\n",
    "\n",
    "#sometimes diverges: beta_sgd_5 = stochastic_gradient_descent(X_train, y_train, 0.005, beta_0, 5, 2000)\n",
    "#～0.25: beta_sgd_5 = stochastic_gradient_descent(X_train, y_train, 0.0025, beta_0, 5, 3000)\n",
    "\n",
    "#0.25: beta_sgd_10 = stochastic_gradient_descent(X_train, y_train, 0.003, beta_0, 10, 3000)\n",
    "#0.25: beta_sgd_10 = stochastic_gradient_descent(X_train, y_train, 0.003, beta_0, 10, 3000)\n",
    "\n",
    "print(get_error_rate(X_test, y_test, beta_sgd_1))\n",
    "\n",
    "#more iterations sometimes cause a resurgence in loss so we should reduce #iterations? \n",
    "#for smaller batchsize, increase the stopping criteria?"
   ]
  },
  {
   "cell_type": "code",
   "execution_count": 151,
   "metadata": {},
   "outputs": [],
   "source": [
    "def get_error_rate(X_test, y_test, beta_t):\n",
    "    \n",
    "    y_hat = beta_t[0] + X_test@(beta_t[1:])\n",
    "    y_hat[y_hat >= 0] = 1\n",
    "    y_hat[y_hat < 0] = 0\n",
    "    errors = y_hat - y_test\n",
    "    error_rate = np.count_nonzero(errors) / len(y_test)\n",
    "    return error_rate"
   ]
  },
  {
   "cell_type": "code",
   "execution_count": 216,
   "metadata": {},
   "outputs": [
    {
     "name": "stdout",
     "output_type": "stream",
     "text": [
      "[1053  898 1888   47 1748  999  807  824  773 1302  709 2325  852  357\n",
      "  336 1241  963 1038 3227  424 2423  117  679  735 1090  811  780  463\n",
      "  372  469  293  205  405  215  485  599  829   83  384  453  148  341\n",
      "  375  327 1311  517   63  203  790 2715  529 2258 1400  750 4601 4601\n",
      " 4601]\n"
     ]
    }
   ],
   "source": [
    "#choose one feature with more non-zero entries\n",
    "X_zero = np.count_nonzero(X_all, axis=0)\n",
    "print(X_zero)"
   ]
  },
  {
   "cell_type": "code",
   "execution_count": 212,
   "metadata": {},
   "outputs": [
    {
     "name": "stdout",
     "output_type": "stream",
     "text": [
      "stopping criteria met\n"
     ]
    },
    {
     "data": {
      "image/png": "[encoded data removed]",
      "text/plain": [
       "<Figure size 640x480 with 1 Axes>"
      ]
     },
     "metadata": {},
     "output_type": "display_data"
    },
    {
     "name": "stdout",
     "output_type": "stream",
     "text": [
      "0.6053690048571174\n",
      "stopping criteria met\n"
     ]
    },
    {
     "data": {
      "image/png": "[encoded data removed]",
      "text/plain": [
       "<Figure size 640x480 with 1 Axes>"
      ]
     },
     "metadata": {},
     "output_type": "display_data"
    },
    {
     "name": "stdout",
     "output_type": "stream",
     "text": [
      "0.6053689700668266\n"
     ]
    }
   ],
   "source": [
    "#1 fixed feature, 100 random samples\n",
    "b_0 = np.array([0.0001, 0.0001])\n",
    "feature = 18\n",
    "sample = np.random.choice(np.arange(0, len(y_all)),  100)\n",
    "\n",
    "X_1 = X_all[sample,:]\n",
    "X_1 = X_1[:, feature].reshape((100,1))\n",
    "\n",
    "y_1 = y_all[sample]\n",
    "\n",
    "#compute optimal weights for unstandardized and standardized data\n",
    "beta_without_n = gradient_descent(X_1, y_1, 0.01, b_0, 50000, 0)\n",
    "beta_with_n = gradient_descent(X_1, y_1, 0.01, b_0*np.std(X_1), 50000, 1)"
   ]
  },
  {
   "cell_type": "code",
   "execution_count": 225,
   "metadata": {},
   "outputs": [
    {
     "name": "stdout",
     "output_type": "stream",
     "text": [
      "2 optimal weight vectors: [-1.15916143  0.56899407] [-1.15978321  0.56907389]\n",
      "predictions for 100 training samples: \n",
      " [-0.37394961 -1.15916143  0.88921723 -0.82914487 -1.15916143 -0.41946914\n",
      " -0.45929872 -0.0780727   1.11681485 -0.45929872  0.32591309  2.85224677\n",
      " -0.32274015 -1.15916143 -1.15916143 -0.92018392 -0.37394961 -0.82345493\n",
      " -1.15916143 -0.99984309 -1.15916143 -0.2886005   0.84938764  0.43971191\n",
      " -0.16342181 -0.43653896 -0.27722062  1.03146574  1.28182313 -1.15916143\n",
      "  0.17797464  0.03003618 -0.03255317 -1.15916143 -0.49912831  0.08124564\n",
      "  1.0257758  -1.15916143  0.8436977  -1.15916143 -0.11790228 -0.00410347\n",
      "  1.09405509 -1.15916143 -0.00410347 -0.03255317  1.01439592  0.88921723\n",
      "  0.61610007 -1.15916143 -0.57878748 -1.15916143 -1.15916143 -0.28291056\n",
      "  0.86076752  0.66730954 -0.89173422  1.36717224 -1.15916143  0.04141606\n",
      "  2.35153199 -0.40808926 -0.00979341  1.03146574 -0.08945258 -1.15916143\n",
      " -0.27153068 -0.70965611 -1.09088214  0.57627049 -1.15916143 -0.91449398\n",
      " -1.15916143 -0.19187151 -0.42515908 -1.15916143  0.20642434 -1.15916143\n",
      " -0.2886005   1.31027284 -1.15916143 -1.15916143 -1.15916143  0.5648906\n",
      " -0.22032121  1.97030596 -1.15916143  1.0257758   1.38424207  1.27613319\n",
      "  0.73558883 -0.48205849  0.32591309 -1.15916143 -0.66413659  0.33729298\n",
      " -0.17480169  0.74696871 -1.15916143 -1.15916143] \n",
      "\n",
      " [-0.37446124 -1.15978321  0.88888279 -0.82972036 -1.15978321 -0.41998716\n",
      " -0.45982233 -0.07854282  1.11651235 -0.45982233  0.32549964  2.85218771\n",
      " -0.32324459 -1.15978321 -1.15978321 -0.92077218 -0.37446124 -0.82402962\n",
      " -1.15978321 -1.00044252 -1.15978321 -0.28910016  0.84904762  0.43931442\n",
      " -0.1639039  -0.43705937 -0.27771868  1.03115127  1.28154378 -1.15978321\n",
      "  0.17754043  0.02958122 -0.03301691 -1.15978321 -0.4996575   0.08079787\n",
      "  1.02546053 -1.15978321  0.84335688 -1.15978321 -0.11837799 -0.00456322\n",
      "  1.09374939 -1.15978321 -0.00456322 -0.03301691  1.01407905  0.88888279\n",
      "  0.61572733 -1.15978321 -0.57932784 -1.15978321 -1.15978321 -0.28340942\n",
      "  0.8604291   0.66694398 -0.89231848  1.36690486 -1.15978321  0.0409627\n",
      "  2.35140269 -0.40860568 -0.01025395  1.03115127 -0.0899243  -1.15978321\n",
      " -0.27202794 -0.71021484 -1.09149435  0.57589215 -1.15978321 -0.91508144\n",
      " -1.15978321 -0.1923576  -0.42567789 -1.15978321  0.20599412 -1.15978321\n",
      " -0.28910016  1.30999747 -1.15978321 -1.15978321 -1.15978321  0.56451068\n",
      " -0.22081129  1.97012318 -1.15978321  1.02546053  1.38397708  1.27585304\n",
      "  0.73523284 -0.48258528  0.32549964 -1.15978321 -0.66468893  0.33688112\n",
      " -0.17528538  0.74661432 -1.15978321 -1.15978321]\n"
     ]
    }
   ],
   "source": [
    "#compare (adjusted) weight vectors\n",
    "print('2 optimal weight vectors:', beta_without_n, beta_with_n)\n",
    "\n",
    "#print predictions for both approaches and compare\n",
    "y_hat = beta_without_n[0] + X_1@(beta_without_n[1:])\n",
    "y_hat_n = beta_with_n[0] + X_1@(beta_with_n[1:])\n",
    "print('predictions for 100 training samples: \\n', y_hat, '\\n\\n', y_hat_n)"
   ]
  },
  {
   "cell_type": "markdown",
   "metadata": {},
   "source": [
    "The results are fairly similar. "
   ]
  }
 ],
 "metadata": {
  "kernelspec": {
   "display_name": "Python 3 (ipykernel)",
   "language": "python",
   "name": "python3"
  },
  "language_info": {
   "codemirror_mode": {
    "name": "ipython",
    "version": 3
   },
   "file_extension": ".py",
   "mimetype": "text/x-python",
   "name": "python",
   "nbconvert_exporter": "python",
   "pygments_lexer": "ipython3",
   "version": "3.10.7"
  },
  "vscode": {
   "interpreter": {
    "hash": "b0fa6594d8f4cbf19f97940f81e996739fb7646882a419484c72d19e05852a7e"
   }
  }
 },
 "nbformat": 4,
 "nbformat_minor": 2
}
